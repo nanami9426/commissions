{
 "cells": [
  {
   "cell_type": "code",
   "execution_count": 1,
   "id": "26f418a6",
   "metadata": {},
   "outputs": [],
   "source": [
    "import pandas as pd\n",
    "df = pd .read_excel('d.xlsx')"
   ]
  },
  {
   "cell_type": "code",
   "execution_count": 2,
   "id": "bdfa93c4",
   "metadata": {},
   "outputs": [
    {
     "data": {
      "text/html": [
       "<div>\n",
       "<style scoped>\n",
       "    .dataframe tbody tr th:only-of-type {\n",
       "        vertical-align: middle;\n",
       "    }\n",
       "\n",
       "    .dataframe tbody tr th {\n",
       "        vertical-align: top;\n",
       "    }\n",
       "\n",
       "    .dataframe thead th {\n",
       "        text-align: right;\n",
       "    }\n",
       "</style>\n",
       "<table border=\"1\" class=\"dataframe\">\n",
       "  <thead>\n",
       "    <tr style=\"text-align: right;\">\n",
       "      <th></th>\n",
       "      <th>商品类别</th>\n",
       "      <th>rFBSo1500</th>\n",
       "      <th>FBPo1500</th>\n",
       "      <th>rFBS</th>\n",
       "      <th>FBP</th>\n",
       "    </tr>\n",
       "  </thead>\n",
       "  <tbody>\n",
       "    <tr>\n",
       "      <th>0</th>\n",
       "      <td>美容和健康</td>\n",
       "      <td>12,00%</td>\n",
       "      <td>11,00%</td>\n",
       "      <td>18,00%</td>\n",
       "      <td>17,00%</td>\n",
       "    </tr>\n",
       "    <tr>\n",
       "      <th>1</th>\n",
       "      <td>美容设备</td>\n",
       "      <td>12,00%</td>\n",
       "      <td>11,00%</td>\n",
       "      <td>16,00%</td>\n",
       "      <td>15,00%</td>\n",
       "    </tr>\n",
       "    <tr>\n",
       "      <th>2</th>\n",
       "      <td>专业美容仪器</td>\n",
       "      <td>7,50%</td>\n",
       "      <td>6,50%</td>\n",
       "      <td>7,50%</td>\n",
       "      <td>6,50%</td>\n",
       "    </tr>\n",
       "    <tr>\n",
       "      <th>3</th>\n",
       "      <td>服装和配饰</td>\n",
       "      <td>12,00%</td>\n",
       "      <td>11,00%</td>\n",
       "      <td>20,50%</td>\n",
       "      <td>19,50%</td>\n",
       "    </tr>\n",
       "    <tr>\n",
       "      <th>4</th>\n",
       "      <td>季节服装和配饰</td>\n",
       "      <td>12,00%</td>\n",
       "      <td>11,00%</td>\n",
       "      <td>20,50%</td>\n",
       "      <td>19,50%</td>\n",
       "    </tr>\n",
       "  </tbody>\n",
       "</table>\n",
       "</div>"
      ],
      "text/plain": [
       "      商品类别 rFBSo1500 FBPo1500    rFBS     FBP\n",
       "0    美容和健康    12,00%   11,00%  18,00%  17,00%\n",
       "1     美容设备    12,00%   11,00%  16,00%  15,00%\n",
       "2   专业美容仪器     7,50%    6,50%   7,50%   6,50%\n",
       "3    服装和配饰    12,00%   11,00%  20,50%  19,50%\n",
       "4  季节服装和配饰    12,00%   11,00%  20,50%  19,50%"
      ]
     },
     "execution_count": 2,
     "metadata": {},
     "output_type": "execute_result"
    }
   ],
   "source": [
    "df.iloc[:5]"
   ]
  },
  {
   "cell_type": "code",
   "execution_count": 3,
   "id": "06b445aa",
   "metadata": {},
   "outputs": [
    {
     "data": {
      "text/plain": [
       "0.075"
      ]
     },
     "execution_count": 3,
     "metadata": {},
     "output_type": "execute_result"
    }
   ],
   "source": [
    "def percent2int(p:str):\n",
    "    return int(p.replace('%','').replace(',',''))*0.0001\n",
    "\n",
    "percent2int('7,50%')"
   ]
  },
  {
   "cell_type": "code",
   "execution_count": 4,
   "id": "debfba49",
   "metadata": {},
   "outputs": [],
   "source": [
    "df['rFBSo1500'] = df['rFBSo1500'].apply(percent2int)\n",
    "df['FBPo1500'] = df['FBPo1500'].apply(percent2int)\n",
    "df['rFBS'] = df['rFBS'].apply(percent2int)\n",
    "df['FBP'] = df['FBP'].apply(percent2int)"
   ]
  },
  {
   "cell_type": "code",
   "execution_count": 5,
   "id": "b6eff76a",
   "metadata": {},
   "outputs": [
    {
     "data": {
      "text/html": [
       "<div>\n",
       "<style scoped>\n",
       "    .dataframe tbody tr th:only-of-type {\n",
       "        vertical-align: middle;\n",
       "    }\n",
       "\n",
       "    .dataframe tbody tr th {\n",
       "        vertical-align: top;\n",
       "    }\n",
       "\n",
       "    .dataframe thead th {\n",
       "        text-align: right;\n",
       "    }\n",
       "</style>\n",
       "<table border=\"1\" class=\"dataframe\">\n",
       "  <thead>\n",
       "    <tr style=\"text-align: right;\">\n",
       "      <th></th>\n",
       "      <th>商品类别</th>\n",
       "      <th>rFBSo1500</th>\n",
       "      <th>FBPo1500</th>\n",
       "      <th>rFBS</th>\n",
       "      <th>FBP</th>\n",
       "    </tr>\n",
       "  </thead>\n",
       "  <tbody>\n",
       "    <tr>\n",
       "      <th>0</th>\n",
       "      <td>美容和健康</td>\n",
       "      <td>0.120</td>\n",
       "      <td>0.110</td>\n",
       "      <td>0.180</td>\n",
       "      <td>0.170</td>\n",
       "    </tr>\n",
       "    <tr>\n",
       "      <th>1</th>\n",
       "      <td>美容设备</td>\n",
       "      <td>0.120</td>\n",
       "      <td>0.110</td>\n",
       "      <td>0.160</td>\n",
       "      <td>0.150</td>\n",
       "    </tr>\n",
       "    <tr>\n",
       "      <th>2</th>\n",
       "      <td>专业美容仪器</td>\n",
       "      <td>0.075</td>\n",
       "      <td>0.065</td>\n",
       "      <td>0.075</td>\n",
       "      <td>0.065</td>\n",
       "    </tr>\n",
       "    <tr>\n",
       "      <th>3</th>\n",
       "      <td>服装和配饰</td>\n",
       "      <td>0.120</td>\n",
       "      <td>0.110</td>\n",
       "      <td>0.205</td>\n",
       "      <td>0.195</td>\n",
       "    </tr>\n",
       "    <tr>\n",
       "      <th>4</th>\n",
       "      <td>季节服装和配饰</td>\n",
       "      <td>0.120</td>\n",
       "      <td>0.110</td>\n",
       "      <td>0.205</td>\n",
       "      <td>0.195</td>\n",
       "    </tr>\n",
       "  </tbody>\n",
       "</table>\n",
       "</div>"
      ],
      "text/plain": [
       "      商品类别  rFBSo1500  FBPo1500   rFBS    FBP\n",
       "0    美容和健康      0.120     0.110  0.180  0.170\n",
       "1     美容设备      0.120     0.110  0.160  0.150\n",
       "2   专业美容仪器      0.075     0.065  0.075  0.065\n",
       "3    服装和配饰      0.120     0.110  0.205  0.195\n",
       "4  季节服装和配饰      0.120     0.110  0.205  0.195"
      ]
     },
     "execution_count": 5,
     "metadata": {},
     "output_type": "execute_result"
    }
   ],
   "source": [
    "df.head(5)"
   ]
  },
  {
   "cell_type": "code",
   "execution_count": 13,
   "id": "5ddfd26a",
   "metadata": {},
   "outputs": [
    {
     "data": {
      "text/html": [
       "<div>\n",
       "<style scoped>\n",
       "    .dataframe tbody tr th:only-of-type {\n",
       "        vertical-align: middle;\n",
       "    }\n",
       "\n",
       "    .dataframe tbody tr th {\n",
       "        vertical-align: top;\n",
       "    }\n",
       "\n",
       "    .dataframe thead th {\n",
       "        text-align: right;\n",
       "    }\n",
       "</style>\n",
       "<table border=\"1\" class=\"dataframe\">\n",
       "  <thead>\n",
       "    <tr style=\"text-align: right;\">\n",
       "      <th></th>\n",
       "      <th>商品类别</th>\n",
       "      <th>rFBSo1500</th>\n",
       "      <th>FBPo1500</th>\n",
       "      <th>rFBS</th>\n",
       "      <th>FBP</th>\n",
       "    </tr>\n",
       "  </thead>\n",
       "  <tbody>\n",
       "    <tr>\n",
       "      <th>1</th>\n",
       "      <td>美容设备</td>\n",
       "      <td>0.12</td>\n",
       "      <td>0.11</td>\n",
       "      <td>0.16</td>\n",
       "      <td>0.15</td>\n",
       "    </tr>\n",
       "  </tbody>\n",
       "</table>\n",
       "</div>"
      ],
      "text/plain": [
       "   商品类别  rFBSo1500  FBPo1500  rFBS   FBP\n",
       "1  美容设备       0.12      0.11  0.16  0.15"
      ]
     },
     "execution_count": 13,
     "metadata": {},
     "output_type": "execute_result"
    }
   ],
   "source": [
    "category = \"美容设备\"\n",
    "r = df.loc[df['商品类别'] == category]\n",
    "r"
   ]
  },
  {
   "cell_type": "code",
   "execution_count": 14,
   "id": "baebb539",
   "metadata": {},
   "outputs": [
    {
     "data": {
      "text/plain": [
       "1"
      ]
     },
     "execution_count": 14,
     "metadata": {},
     "output_type": "execute_result"
    }
   ],
   "source": [
    "len(r)"
   ]
  },
  {
   "cell_type": "code",
   "execution_count": 8,
   "id": "9579ff40",
   "metadata": {},
   "outputs": [
    {
     "data": {
      "text/plain": [
       "['美容设备', 0.12000000000000001, 0.11, 0.16, 0.15]"
      ]
     },
     "execution_count": 8,
     "metadata": {},
     "output_type": "execute_result"
    }
   ],
   "source": [
    "rlist = list(r.values[0])\n",
    "rlist"
   ]
  },
  {
   "cell_type": "code",
   "execution_count": 9,
   "id": "23a3bdde",
   "metadata": {},
   "outputs": [
    {
     "data": {
      "text/plain": [
       "(7800.0, 7150.0, 10400.0, 9750.0)"
      ]
     },
     "execution_count": 9,
     "metadata": {},
     "output_type": "execute_result"
    }
   ],
   "source": [
    "price = 65000\n",
    "\n",
    "rFBS_over_1500 = round(price*rlist[1],2)\n",
    "FBP_over_1500 = round(price*rlist[2],2)\n",
    "rFBS = round(price*rlist[3],2)\n",
    "FBP = round(price*rlist[4],2)\n",
    "\n",
    "rFBS_over_1500,FBP_over_1500,rFBS,FBP"
   ]
  },
  {
   "cell_type": "code",
   "execution_count": 16,
   "id": "5a983794",
   "metadata": {},
   "outputs": [
    {
     "data": {
      "text/plain": [
       "['美容和健康', '美容设备', '专业美容仪器', '服装和配饰', '季节服装和配饰']"
      ]
     },
     "execution_count": 16,
     "metadata": {},
     "output_type": "execute_result"
    }
   ],
   "source": [
    "categories = df['商品类别'].tolist()\n",
    "categories[:5]"
   ]
  },
  {
   "cell_type": "code",
   "execution_count": 18,
   "id": "9ccd69c1",
   "metadata": {},
   "outputs": [],
   "source": [
    "import json"
   ]
  },
  {
   "cell_type": "code",
   "execution_count": 19,
   "id": "33bd6896",
   "metadata": {},
   "outputs": [
    {
     "ename": "NameError",
     "evalue": "name 'product_categories' is not defined",
     "output_type": "error",
     "traceback": [
      "\u001b[1;31m---------------------------------------------------------------------------\u001b[0m",
      "\u001b[1;31mNameError\u001b[0m                                 Traceback (most recent call last)",
      "Cell \u001b[1;32mIn[19], line 2\u001b[0m\n\u001b[0;32m      1\u001b[0m \u001b[38;5;28;01mwith\u001b[39;00m \u001b[38;5;28mopen\u001b[39m(\u001b[38;5;124m'\u001b[39m\u001b[38;5;124mcategories.json\u001b[39m\u001b[38;5;124m'\u001b[39m, \u001b[38;5;124m'\u001b[39m\u001b[38;5;124mw\u001b[39m\u001b[38;5;124m'\u001b[39m, encoding\u001b[38;5;241m=\u001b[39m\u001b[38;5;124m'\u001b[39m\u001b[38;5;124mutf-8\u001b[39m\u001b[38;5;124m'\u001b[39m) \u001b[38;5;28;01mas\u001b[39;00m f:\n\u001b[1;32m----> 2\u001b[0m     json\u001b[38;5;241m.\u001b[39mdump(\u001b[43mproduct_categories\u001b[49m, f, ensure_ascii\u001b[38;5;241m=\u001b[39m\u001b[38;5;28;01mFalse\u001b[39;00m, indent\u001b[38;5;241m=\u001b[39m\u001b[38;5;241m4\u001b[39m)\n",
      "\u001b[1;31mNameError\u001b[0m: name 'product_categories' is not defined"
     ]
    }
   ],
   "source": [
    "with open('categories.json', 'w', encoding='utf-8') as f:\n",
    "    json.dump(categories, f, ensure_ascii=False, indent=4)"
   ]
  },
  {
   "cell_type": "code",
   "execution_count": null,
   "id": "b1f7bda1",
   "metadata": {},
   "outputs": [],
   "source": []
  }
 ],
 "metadata": {
  "kernelspec": {
   "display_name": "torch",
   "language": "python",
   "name": "torch"
  },
  "language_info": {
   "codemirror_mode": {
    "name": "ipython",
    "version": 3
   },
   "file_extension": ".py",
   "mimetype": "text/x-python",
   "name": "python",
   "nbconvert_exporter": "python",
   "pygments_lexer": "ipython3",
   "version": "3.10.14"
  }
 },
 "nbformat": 4,
 "nbformat_minor": 5
}
